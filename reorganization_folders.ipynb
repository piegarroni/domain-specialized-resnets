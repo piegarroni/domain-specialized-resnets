{
 "cells": [
  {
   "cell_type": "markdown",
   "id": "ed9a475e",
   "metadata": {},
   "source": [
    "### This is section is used to preprocess the folders on the imagenet to get the experimental setup.\n",
    "Typical operation that this chunks of code do are merely to reogranize the folders in domains or categories"
   ]
  },
  {
   "cell_type": "code",
   "execution_count": 2,
   "id": "c842819e",
   "metadata": {},
   "outputs": [
    {
     "name": "stderr",
     "output_type": "stream",
     "text": [
      "2022-05-13 10:54:11.457509: I tensorflow/stream_executor/platform/default/dso_loader.cc:53] Successfully opened dynamic library libcudart.so.11.0\n"
     ]
    }
   ],
   "source": [
    "import os\n",
    "import pandas as pd\n",
    "import numpy as np\n",
    "import glob\n",
    "from sklearn.model_selection import train_test_split"
   ]
  },
  {
   "cell_type": "code",
   "execution_count": 9,
   "id": "501f16db",
   "metadata": {},
   "outputs": [
    {
     "name": "stdout",
     "output_type": "stream",
     "text": [
      "  FolderName  Cluster\n",
      "0  n03690938        0\n",
      "1  n03134739        0\n",
      "2  n02276258        0\n"
     ]
    }
   ],
   "source": [
    "os.chdir(r\"/mnt/c/Users/pietr/Desktop/ImageNet/\")\n",
    "clusters = pd.read_csv(\"foldername%cluster.csv\")\n",
    "print(clusters[:3])"
   ]
  },
  {
   "cell_type": "markdown",
   "id": "fd152e3c",
   "metadata": {},
   "source": [
    "#### Processing ImageNet's training set (balance domain, split for domain classification and image classification, baseline and experimental setup and train-test-val split)"
   ]
  },
  {
   "cell_type": "code",
   "execution_count": 10,
   "id": "e5f021bc",
   "metadata": {},
   "outputs": [
    {
     "name": "stdout",
     "output_type": "stream",
     "text": [
      "['n01440764', 'n01443537', 'n01484850', 'n01491361', 'n01494475']\n",
      "748\n",
      "['/mnt/c/Users/pietr/Desktop/ImageNet/DATA/train/n01440764/', '/mnt/c/Users/pietr/Desktop/ImageNet/DATA/train/n01443537/', '/mnt/c/Users/pietr/Desktop/ImageNet/DATA/train/n01484850/', '/mnt/c/Users/pietr/Desktop/ImageNet/DATA/train/n01491361/', '/mnt/c/Users/pietr/Desktop/ImageNet/DATA/train/n01494475/']\n",
      "748\n",
      "\n",
      "['n01514668', 'n01532829', 'n01580077', 'n01622779', 'n01629819', 'n01644900', 'n01664065', 'n01682714', 'n01685808', 'n01689811', 'n01695060', 'n01698640', 'n01704323', 'n01735189', 'n01737021', 'n01742172', 'n01751748', 'n01773157', 'n01773797', 'n01774750', 'n01775062', 'n01795545', 'n01797886', 'n01798484', 'n01833805', 'n01843065', 'n01855672', 'n01860187', 'n01914609', 'n01917289', 'n01943899', 'n01950731', 'n01990800', 'n02013706', 'n02018207', 'n02027492', 'n02037110', 'n02056570', 'n02071294', 'n02077923', 'n02085620', 'n02085782', 'n02085936', 'n02086646', 'n02086910', 'n02087046', 'n02088238', 'n02088364', 'n02088466', 'n02089078', 'n02089867', 'n02090622', 'n02090721', 'n02091032', 'n02091134', 'n02091244', 'n02091635', 'n02091831', 'n02092002', 'n02092339', 'n02093256', 'n02093428', 'n02093647', 'n02093754', 'n02093859', 'n02093991', 'n02094114', 'n02094258', 'n02094433', 'n02095314', 'n02095570', 'n02095889', 'n02096051', 'n02096177', 'n02096294', 'n02096437', 'n02096585', 'n02097047', 'n02097130', 'n02097209', 'n02097298', 'n02097474', 'n02097658', 'n02098105', 'n02098286', 'n02099267', 'n02099429', 'n02099601', 'n02099712', 'n02099849', 'n02100236', 'n02100583', 'n02100877', 'n02101388', 'n02101556', 'n02102040', 'n02102177', 'n02102318', 'n02102480', 'n02102973', 'n02104365', 'n02105251', 'n02105412', 'n02105641', 'n02105855', 'n02106030', 'n02106166', 'n02106550', 'n02106662', 'n02107142', 'n02107574', 'n02107683', 'n02108422', 'n02108551', 'n02108915', 'n02109961', 'n02110063', 'n02110185', 'n02110341', 'n02110627', 'n02110806', 'n02110958', 'n02111129', 'n02111277', 'n02112018', 'n02113023', 'n02113186', 'n02113624', 'n02113712', 'n02113799', 'n02114548', 'n02116738', 'n02123045', 'n02123159', 'n02123394', 'n02123597', 'n02124075', 'n02128385', 'n02128757', 'n02134084', 'n02137549', 'n02165456', 'n02167151', 'n02172182', 'n02177972', 'n02190166', 'n02229544', 'n02236044', 'n02256656', 'n02259212', 'n02268853', 'n02276258', 'n02279972', 'n02280649', 'n02317335', 'n02325366', 'n02326432', 'n02396427', 'n02398521', 'n02403003', 'n02423022', 'n02437616', 'n02443484', 'n02444819', 'n02454379', 'n02480495', 'n02480855', 'n02483708', 'n02490219', 'n02492660', 'n02497673', 'n02514041', 'n02607072', 'n02692877', 'n02699494', 'n02787622', 'n02793495', 'n02795169', 'n02807133', 'n02834397', 'n02840245', 'n02841315', 'n02859443', 'n02892201', 'n02927161', 'n02963159', 'n02974003', 'n03016953', 'n03063689', 'n03109150', 'n03110669', 'n03134739', 'n03207743', 'n03240683', 'n03272562', 'n03314780', 'n03325584', 'n03372029', 'n03393912', 'n03527444', 'n03529860', 'n03584829', 'n03590841', 'n03599486', 'n03633091', 'n03657121', 'n03690938', 'n03697007', 'n03720891', 'n03770439', 'n03773504', 'n03775546', 'n03777568', 'n03791053', 'n03793489', 'n03877845', 'n03888605', 'n03930313', 'n03956157', 'n03976657', 'n03983396', 'n03992509', 'n03998194', 'n04019541', 'n04120489', 'n04127249', 'n04141076', 'n04146614', 'n04201297', 'n04238763', 'n04270147', 'n04317175', 'n04355338', 'n04371430', 'n04399382', 'n04409515', 'n04417672', 'n04485082', 'n04505470', 'n04554684', 'n04584207', 'n04591713', 'n04613696', 'n06785654', 'n07718747', 'n07734744', 'n07753113', 'n07871810', 'n09468604', 'n10148035', 'n12768682', 'n13040303']\n",
      "252\n",
      "['/mnt/c/Users/pietr/Desktop/ImageNet/DATA/train/n01514668', '/mnt/c/Users/pietr/Desktop/ImageNet/DATA/train/n01532829', '/mnt/c/Users/pietr/Desktop/ImageNet/DATA/train/n01580077', '/mnt/c/Users/pietr/Desktop/ImageNet/DATA/train/n01622779', '/mnt/c/Users/pietr/Desktop/ImageNet/DATA/train/n01629819']\n",
      "252\n"
     ]
    }
   ],
   "source": [
    "## reduce train set to 252 classes \n",
    "\n",
    "TRAIN_DATA_FOLDER = \"/mnt/c/Users/pietr/Desktop/ImageNet/DATA/train/\"\n",
    "\n",
    "folders = glob.glob(TRAIN_DATA_FOLDER + \"**/\")\n",
    "paths = []\n",
    "labels = []\n",
    "\n",
    "for folder in folders:\n",
    "    label_str = folder.split(\"/\")[-2]\n",
    "    paths.append(folder)\n",
    "    labels.append(label_str)\n",
    "\n",
    "\n",
    "print(labels[:5])\n",
    "print(len(labels))\n",
    "print(paths[:5])\n",
    "print(len(paths))\n",
    "\n",
    "print()\n",
    "\n",
    "\n",
    "# creating lists of the 252 classes and paths\n",
    "labels2 = list(clusters[\"FolderName\"])\n",
    "labels2.sort()\n",
    "\n",
    "paths2 = []\n",
    "for i in labels2:\n",
    "    paths2.append(TRAIN_DATA_FOLDER + i)\n",
    "\n",
    "\n",
    "print(labels2[:5])\n",
    "print(len(labels2))\n",
    "print(paths2[:5])\n",
    "print(len(paths2))\n",
    "\n",
    "# fill new folder\n",
    "\n",
    "TRAIN_RED_DATA_FOLDER = \"/mnt/c/Users/pietr/Desktop/ImageNet/DATA/train252/\"\n",
    "\n",
    "for path, label in zip(paths2, labels2):\n",
    "    if not os.path.isdir(TRAIN_RED_DATA_FOLDER + label):\n",
    "        os.mkdir(TRAIN_RED_DATA_FOLDER + label)\n",
    "    os.rename(path, TRAIN_RED_DATA_FOLDER + label + \"/\")"
   ]
  },
  {
   "cell_type": "code",
   "execution_count": 11,
   "id": "b2ca1677",
   "metadata": {},
   "outputs": [
    {
     "name": "stdout",
     "output_type": "stream",
     "text": [
      "['/mnt/c/Users/pietr/Desktop/ImageNet/DATA/train252/n02110341/n02110341_5373.JPEG', '/mnt/c/Users/pietr/Desktop/ImageNet/DATA/train252/n03372029/n03372029_37015.JPEG', '/mnt/c/Users/pietr/Desktop/ImageNet/DATA/train252/n02807133/n02807133_5807.JPEG', '/mnt/c/Users/pietr/Desktop/ImageNet/DATA/train252/n02111129/n02111129_4048.JPEG', '/mnt/c/Users/pietr/Desktop/ImageNet/DATA/train252/n02102040/n02102040_7768.JPEG']\n"
     ]
    }
   ],
   "source": [
    "# train and validation set split for image classification\n",
    "\n",
    "TRAIN_DATA_FOLDER = \"/mnt/c/Users/pietr/Desktop/ImageNet/DATA/train252/\"\n",
    "\n",
    "files = glob.glob(TRAIN_DATA_FOLDER + \"**/*.JPEG\")\n",
    "paths = []\n",
    "labels = []\n",
    "\n",
    "for file in files:\n",
    "    label_str = file.split(\"/\")[-2]\n",
    "    paths.append(file)\n",
    "    labels.append(label_str)\n",
    "\n",
    "\n",
    "(trainPaths, domPaths, trainLabels, domLabels) = train_test_split(\n",
    "    paths, labels, test_size=20000, stratify=labels, random_state=42\n",
    ")\n",
    "\n",
    "print(domPaths[:5])\n",
    "\n",
    "DOM_DATA_FOLDER = \"/mnt/c/Users/pietr/Desktop/ImageNet/DATA/val252/\"\n",
    "\n",
    "for domPath, domLabel in zip(domPaths, domLabels):\n",
    "\n",
    "    if not os.path.isdir(DOM_DATA_FOLDER + domLabel):\n",
    "        os.mkdir(DOM_DATA_FOLDER + domLabel)\n",
    "\n",
    "    os.rename(domPath, DOM_DATA_FOLDER + domLabel + \"/\" + domPath.split(\"/\")[-1])"
   ]
  },
  {
   "cell_type": "code",
   "execution_count": 12,
   "id": "fe38c8ef",
   "metadata": {},
   "outputs": [
    {
     "name": "stdout",
     "output_type": "stream",
     "text": [
      "['/mnt/c/Users/pietr/Desktop/ImageNet/DATA/train252/n02089867/n02089867_7250.JPEG', '/mnt/c/Users/pietr/Desktop/ImageNet/DATA/train252/n02099429/n02099429_3949.JPEG', '/mnt/c/Users/pietr/Desktop/ImageNet/DATA/train252/n02107142/n02107142_1854.JPEG', '/mnt/c/Users/pietr/Desktop/ImageNet/DATA/train252/n06785654/n06785654_11332.JPEG', '/mnt/c/Users/pietr/Desktop/ImageNet/DATA/train252/n07871810/n07871810_3742.JPEG']\n"
     ]
    }
   ],
   "source": [
    "# split the data for image and domain classifications\n",
    "\n",
    "TRAIN_DATA_FOLDER = \"/mnt/c/Users/pietr/Desktop/ImageNet/DATA/train252/\"\n",
    "\n",
    "files = glob.glob(TRAIN_DATA_FOLDER + \"**/*.JPEG\")\n",
    "paths = []\n",
    "labels = []\n",
    "\n",
    "for file in files:\n",
    "    label_str = file.split(\"/\")[-2]\n",
    "    paths.append(file)\n",
    "    labels.append(label_str)\n",
    "\n",
    "\n",
    "(trainPaths, domPaths, trainLabels, domLabels) = train_test_split(\n",
    "    paths, labels, test_size=80000, stratify=labels, random_state=42\n",
    ")\n",
    "\n",
    "print(domPaths[:5])\n",
    "\n",
    "DOM_DATA_FOLDER = \"/mnt/c/Users/pietr/Desktop/ImageNet/DATA/domain/train/\"\n",
    "\n",
    "for domPath, domLabel in zip(domPaths, domLabels):\n",
    "\n",
    "    if not os.path.isdir(DOM_DATA_FOLDER + domLabel):\n",
    "        os.mkdir(DOM_DATA_FOLDER + domLabel)\n",
    "\n",
    "    os.rename(domPath, DOM_DATA_FOLDER + domLabel + \"/\" + domPath.split(\"/\")[-1])"
   ]
  },
  {
   "cell_type": "code",
   "execution_count": 38,
   "id": "df8f9c56",
   "metadata": {
    "scrolled": true
   },
   "outputs": [
    {
     "name": "stdout",
     "output_type": "stream",
     "text": [
      "[('n01514668', 1), ('n01532829', 1), ('n01580077', 1), ('n01622779', 1), ('n01629819', 1), ('n01644900', 1), ('n01664065', 1), ('n01682714', 1), ('n01685808', 1), ('n01689811', 1), ('n01695060', 1), ('n01698640', 1), ('n01704323', 1), ('n01735189', 1), ('n01737021', 1), ('n01742172', 1), ('n01751748', 1), ('n01773157', 1), ('n01773797', 1), ('n01774750', 1), ('n01775062', 1), ('n01795545', 1), ('n01797886', 1), ('n01798484', 1), ('n01833805', 1), ('n01843065', 0), ('n01855672', 1), ('n01860187', 1), ('n01914609', 1), ('n01917289', 1), ('n01943899', 1), ('n01950731', 1), ('n01990800', 1), ('n02013706', 0), ('n02018207', 1), ('n02027492', 1), ('n02037110', 1), ('n02056570', 1), ('n02071294', 1), ('n02077923', 1), ('n02085620', 2), ('n02085782', 2), ('n02085936', 2), ('n02086646', 2), ('n02086910', 2), ('n02087046', 2), ('n02088238', 2), ('n02088364', 2), ('n02088466', 2), ('n02089078', 2), ('n02089867', 2), ('n02090622', 1), ('n02090721', 2), ('n02091032', 2), ('n02091134', 2), ('n02091244', 2), ('n02091635', 2), ('n02091831', 1), ('n02092002', 0), ('n02092339', 0), ('n02093256', 2), ('n02093428', 2), ('n02093647', 2), ('n02093754', 2), ('n02093859', 2), ('n02093991', 2), ('n02094114', 2), ('n02094258', 2), ('n02094433', 2), ('n02095314', 2), ('n02095570', 2), ('n02095889', 2), ('n02096051', 2), ('n02096177', 2), ('n02096294', 2), ('n02096437', 2), ('n02096585', 2), ('n02097047', 2), ('n02097130', 2), ('n02097209', 2), ('n02097298', 2), ('n02097474', 2), ('n02097658', 2), ('n02098105', 2), ('n02098286', 2), ('n02099267', 2), ('n02099429', 2), ('n02099601', 2), ('n02099712', 2), ('n02099849', 2), ('n02100236', 0), ('n02100583', 0), ('n02100877', 0), ('n02101388', 2), ('n02101556', 2), ('n02102040', 2), ('n02102177', 2), ('n02102318', 2), ('n02102480', 2), ('n02102973', 2), ('n02104365', 0), ('n02105251', 0), ('n02105412', 2), ('n02105641', 2), ('n02105855', 2), ('n02106030', 2), ('n02106166', 2), ('n02106550', 2), ('n02106662', 2), ('n02107142', 2), ('n02107574', 2), ('n02107683', 2), ('n02108422', 2), ('n02108551', 2), ('n02108915', 2), ('n02109961', 2), ('n02110063', 2), ('n02110185', 2), ('n02110341', 2), ('n02110627', 2), ('n02110806', 1), ('n02110958', 2), ('n02111129', 0), ('n02111277', 2), ('n02112018', 2), ('n02113023', 2), ('n02113186', 2), ('n02113624', 2), ('n02113712', 2), ('n02113799', 2), ('n02114548', 1), ('n02116738', 2), ('n02123045', 2), ('n02123159', 2), ('n02123394', 2), ('n02123597', 1), ('n02124075', 2), ('n02128385', 1), ('n02128757', 1), ('n02134084', 1), ('n02137549', 1), ('n02165456', 1), ('n02167151', 1), ('n02172182', 1), ('n02177972', 1), ('n02190166', 0), ('n02229544', 0), ('n02236044', 1), ('n02256656', 1), ('n02259212', 1), ('n02268853', 1), ('n02276258', 0), ('n02279972', 1), ('n02280649', 1), ('n02317335', 1), ('n02325366', 1), ('n02326432', 1), ('n02396427', 1), ('n02398521', 1), ('n02403003', 1), ('n02423022', 1), ('n02437616', 1), ('n02443484', 1), ('n02444819', 1), ('n02454379', 1), ('n02480495', 1), ('n02480855', 1), ('n02483708', 1), ('n02490219', 1), ('n02492660', 1), ('n02497673', 1), ('n02514041', 1), ('n02607072', 1), ('n02692877', 0), ('n02699494', 0), ('n02787622', 0), ('n02793495', 0), ('n02795169', 0), ('n02807133', 0), ('n02834397', 0), ('n02840245', 0), ('n02841315', 0), ('n02859443', 0), ('n02892201', 0), ('n02927161', 0), ('n02963159', 0), ('n02974003', 0), ('n03016953', 0), ('n03063689', 0), ('n03109150', 0), ('n03110669', 0), ('n03134739', 0), ('n03207743', 0), ('n03240683', 0), ('n03272562', 0), ('n03314780', 0), ('n03325584', 1), ('n03372029', 0), ('n03393912', 0), ('n03527444', 0), ('n03529860', 0), ('n03584829', 0), ('n03590841', 0), ('n03599486', 0), ('n03633091', 0), ('n03657121', 0), ('n03690938', 0), ('n03697007', 0), ('n03720891', 0), ('n03770439', 0), ('n03773504', 0), ('n03775546', 0), ('n03777568', 0), ('n03791053', 0), ('n03793489', 1), ('n03877845', 0), ('n03888605', 0), ('n03930313', 0), ('n03956157', 0), ('n03976657', 0), ('n03983396', 0), ('n03992509', 0), ('n03998194', 0), ('n04019541', 0), ('n04120489', 0), ('n04127249', 0), ('n04141076', 0), ('n04146614', 0), ('n04201297', 0), ('n04238763', 0), ('n04270147', 0), ('n04317175', 0), ('n04355338', 0), ('n04371430', 0), ('n04399382', 1), ('n04409515', 0), ('n04417672', 0), ('n04485082', 0), ('n04505470', 0), ('n04554684', 0), ('n04584207', 0), ('n04591713', 0), ('n04613696', 0), ('n06785654', 0), ('n07718747', 1), ('n07734744', 1), ('n07753113', 1), ('n07871810', 0), ('n09468604', 0), ('n10148035', 0), ('n12768682', 1), ('n13040303', 1)]\n",
      "\n",
      "['/mnt/c/Users/pietr/Desktop/ImageNet/DATA/testing_clust/val252/n01514668', '/mnt/c/Users/pietr/Desktop/ImageNet/DATA/testing_clust/val252/n01532829', '/mnt/c/Users/pietr/Desktop/ImageNet/DATA/testing_clust/val252/n01580077', '/mnt/c/Users/pietr/Desktop/ImageNet/DATA/testing_clust/val252/n01622779', '/mnt/c/Users/pietr/Desktop/ImageNet/DATA/testing_clust/val252/n01629819', '/mnt/c/Users/pietr/Desktop/ImageNet/DATA/testing_clust/val252/n01644900', '/mnt/c/Users/pietr/Desktop/ImageNet/DATA/testing_clust/val252/n01664065', '/mnt/c/Users/pietr/Desktop/ImageNet/DATA/testing_clust/val252/n01682714', '/mnt/c/Users/pietr/Desktop/ImageNet/DATA/testing_clust/val252/n01685808', '/mnt/c/Users/pietr/Desktop/ImageNet/DATA/testing_clust/val252/n01689811']\n",
      "252\n",
      "[1, 1, 1, 1, 1, 1, 1, 1, 1, 1]\n",
      "252\n"
     ]
    }
   ],
   "source": [
    "# convert domain classification's folders into clusters (clusters organized in folders)\n",
    "\n",
    "ORIGINAL_DATA_FOLDER = \"/mnt/c/Users/pietr/Desktop/ImageNet/DATA/testing_clust/val252/\"\n",
    "valPaths = []\n",
    "valClusters = []\n",
    "\n",
    "clusters = clusters.sort_values(\"FolderName\")\n",
    "clusters2 = list(zip(list(clusters[\"FolderName\"]), list(clusters[\"Cluster\"])))\n",
    "\n",
    "print(clusters2)\n",
    "\n",
    "for i, val in enumerate(os.listdir(ORIGINAL_DATA_FOLDER)):\n",
    "    valPaths.append(ORIGINAL_DATA_FOLDER + val)\n",
    "\n",
    "    for j in clusters2:\n",
    "        if val == j[0]:\n",
    "            valClusters.append(j[1])\n",
    "print()\n",
    "print(valPaths[:5])\n",
    "print(len(valPaths))\n",
    "\n",
    "print(valClusters[:5])\n",
    "print(len(valClusters))\n",
    "\n",
    "TARGET_DATA_FOLDER = \"/mnt/c/Users/pietr/Desktop/ImageNet/DATA/testing_clust/val252/\"\n",
    "\n",
    "for valPath, cluster in zip(valPaths, valClusters):\n",
    "\n",
    "    if not os.path.isdir(TARGET_DATA_FOLDER + str(cluster)):\n",
    "        os.mkdir(TARGET_DATA_FOLDER + str(cluster))\n",
    "    try:\n",
    "        os.rename(\n",
    "            valPath, TARGET_DATA_FOLDER + str(cluster) + \"/\" + valPath.split(\"/\")[-1]\n",
    "        )\n",
    "    except FileNotFoundError:\n",
    "        pass"
   ]
  },
  {
   "cell_type": "code",
   "execution_count": 27,
   "id": "a8f7e300",
   "metadata": {},
   "outputs": [
    {
     "name": "stdout",
     "output_type": "stream",
     "text": [
      "['/mnt/c/Users/pietr/Desktop/ImageNet/DATA/domain/train_clusters/2/n02085620/n02085620_10098.JPEG', '/mnt/c/Users/pietr/Desktop/ImageNet/DATA/domain/train_clusters/2/n02085620/n02085620_10171.JPEG', '/mnt/c/Users/pietr/Desktop/ImageNet/DATA/domain/train_clusters/2/n02085620/n02085620_10212.JPEG', '/mnt/c/Users/pietr/Desktop/ImageNet/DATA/domain/train_clusters/2/n02085620/n02085620_1026.JPEG', '/mnt/c/Users/pietr/Desktop/ImageNet/DATA/domain/train_clusters/2/n02085620/n02085620_10264.JPEG', '/mnt/c/Users/pietr/Desktop/ImageNet/DATA/domain/train_clusters/2/n02085620/n02085620_10270.JPEG', '/mnt/c/Users/pietr/Desktop/ImageNet/DATA/domain/train_clusters/2/n02085620/n02085620_10319.JPEG', '/mnt/c/Users/pietr/Desktop/ImageNet/DATA/domain/train_clusters/2/n02085620/n02085620_10705.JPEG', '/mnt/c/Users/pietr/Desktop/ImageNet/DATA/domain/train_clusters/2/n02085620/n02085620_10722.JPEG', '/mnt/c/Users/pietr/Desktop/ImageNet/DATA/domain/train_clusters/2/n02085620/n02085620_1073.JPEG']\n",
      "26052\n",
      "['n02085620', 'n02085620', 'n02085620', 'n02085620', 'n02085620', 'n02085620', 'n02085620', 'n02085620', 'n02085620', 'n02085620']\n",
      "26052\n"
     ]
    }
   ],
   "source": [
    "# extract images in clusters' folders to train keras generator\n",
    "\n",
    "import glob\n",
    "\n",
    "ORIGINAL_DATA_FOLDER = \"/mnt/c/Users/pietr/Desktop/ImageNet/DATA/domain/train_clusters/2/\"  # insert number cluster\n",
    "\n",
    "files = glob.glob(ORIGINAL_DATA_FOLDER + \"**/*.JPEG\")\n",
    "paths = []\n",
    "labels = []\n",
    "\n",
    "for file in files:\n",
    "\n",
    "    label_str = file.split(\"/\")[-2]\n",
    "    paths.append(file)\n",
    "    labels.append(label_str)\n",
    "\n",
    "print(paths[:5])\n",
    "print(len(paths))\n",
    "print(labels[:5])\n",
    "print(len(labels))\n",
    "\n",
    "\n",
    "for path, label in zip(paths, labels):\n",
    "    try:\n",
    "        os.rename(path, ORIGINAL_DATA_FOLDER + path.split(\"/\")[-1])\n",
    "    except FileNotFoundError:\n",
    "        pass"
   ]
  },
  {
   "cell_type": "code",
   "execution_count": 27,
   "id": "39ec96f0",
   "metadata": {},
   "outputs": [
    {
     "name": "stdout",
     "output_type": "stream",
     "text": [
      "['/mnt/c/Users/pietr/Desktop/ImageNet/DATA/testing/val252/n02110341/ILSVRC2012_val_00048779.JPEG', '/mnt/c/Users/pietr/Desktop/ImageNet/DATA/testing/val252/n02106550/ILSVRC2012_val_00036110.JPEG', '/mnt/c/Users/pietr/Desktop/ImageNet/DATA/testing/val252/n02317335/ILSVRC2012_val_00043732.JPEG', '/mnt/c/Users/pietr/Desktop/ImageNet/DATA/testing/val252/n02134084/ILSVRC2012_val_00021883.JPEG', '/mnt/c/Users/pietr/Desktop/ImageNet/DATA/testing/val252/n02105251/ILSVRC2012_val_00038314.JPEG']\n",
      "5000\n",
      "['n02110341', 'n02106550', 'n02317335', 'n02134084', 'n02105251']\n",
      "5000\n"
     ]
    }
   ],
   "source": [
    "# split domain classification data in train, test and val sets\n",
    "\n",
    "import glob\n",
    "\n",
    "TRAIN_DATA_FOLDER = \"/mnt/c/Users/pietr/Desktop/ImageNet/DATA/testing/val252/\"\n",
    "\n",
    "files = glob.glob(TRAIN_DATA_FOLDER + \"**/*.JPEG\")\n",
    "paths = []\n",
    "labels = []\n",
    "\n",
    "for file in files:\n",
    "\n",
    "    label_str = file.split(\"/\")[-2]\n",
    "    paths.append(file)\n",
    "    labels.append(label_str)\n",
    "\n",
    "\n",
    "(trainPaths, domPaths, trainLabels, domLabels) = train_test_split(\n",
    "    paths, labels, test_size=5000, stratify=labels, random_state=42\n",
    ")\n",
    "print(domPaths[:5])\n",
    "print(len(domPaths))\n",
    "print(domLabels[:5])\n",
    "print(len(domLabels))\n",
    "\n",
    "DOM_DATA_FOLDER = \"/mnt/c/Users/pietr/Desktop/ImageNet/DATA/domain/val_clusters/\"\n",
    "\n",
    "for domPath, domLabel in zip(domPaths, domLabels):\n",
    "\n",
    "    if not os.path.isdir(DOM_DATA_FOLDER + domLabel):\n",
    "        os.mkdir(DOM_DATA_FOLDER + domLabel)\n",
    "\n",
    "    os.rename(domPath, DOM_DATA_FOLDER + domLabel + \"/\" + domPath.split(\"/\")[-1])"
   ]
  },
  {
   "cell_type": "markdown",
   "id": "d96f2f69",
   "metadata": {},
   "source": [
    "#### Processing ImageNet's validation set for evaluation"
   ]
  },
  {
   "cell_type": "code",
   "execution_count": 4,
   "id": "eed00648",
   "metadata": {},
   "outputs": [
    {
     "name": "stdout",
     "output_type": "stream",
     "text": [
      "       Unnamed: 0  index                  ImageId  Cluster FolderName  \\\n",
      "0               0  27430  ILSVRC2012_val_00044067        0  n03657121   \n",
      "1               1  18019  ILSVRC2012_val_00033383        0  n02834397   \n",
      "2               2  15175  ILSVRC2012_val_00035904        0  n03602883   \n",
      "3               3  14407  ILSVRC2012_val_00031942        1  n02483708   \n",
      "4               4  21229  ILSVRC2012_val_00044191        0  n03785016   \n",
      "...           ...    ...                      ...      ...        ...   \n",
      "49945       49945  23177  ILSVRC2012_val_00045589        1  n01616318   \n",
      "49946       49946  35934  ILSVRC2012_val_00026334        0  n03223299   \n",
      "49947       49947   1059  ILSVRC2012_val_00035855        1  n01950731   \n",
      "49948       49948  16159  ILSVRC2012_val_00001326        0  n02951358   \n",
      "49949       49949  24819  ILSVRC2012_val_00019843        1  n02389026   \n",
      "\n",
      "                Categories  \n",
      "0                cap cover  \n",
      "1                      bib  \n",
      "2                 joystick  \n",
      "3      siamang syndactylus  \n",
      "4                    moped  \n",
      "...                    ...  \n",
      "49945              vulture  \n",
      "49946          doormat mat  \n",
      "49947      slug nudibranch  \n",
      "49948                canoe  \n",
      "49949               sorrel  \n",
      "\n",
      "[49950 rows x 6 columns]\n"
     ]
    }
   ],
   "source": [
    "os.chdir(r\"/mnt/c/Users/pietr/Desktop/ImageNet/\")\n",
    "val2 = pd.read_csv(\"validation2.csv\")\n",
    "print(val2[:3])"
   ]
  },
  {
   "cell_type": "code",
   "execution_count": 5,
   "id": "666159cf",
   "metadata": {},
   "outputs": [
    {
     "name": "stdout",
     "output_type": "stream",
     "text": [
      "252\n"
     ]
    }
   ],
   "source": [
    "foldernames = clusters[\"FolderName\"]\n",
    "print(len(foldernames))"
   ]
  },
  {
   "cell_type": "code",
   "execution_count": 6,
   "id": "f5486d73",
   "metadata": {},
   "outputs": [
    {
     "name": "stdout",
     "output_type": "stream",
     "text": [
      "       Unnamed: 0  index                  ImageId  Cluster FolderName  \\\n",
      "0               0  27430  ILSVRC2012_val_00044067        0  n03657121   \n",
      "1               1  18019  ILSVRC2012_val_00033383        0  n02834397   \n",
      "2               3  14407  ILSVRC2012_val_00031942        1  n02483708   \n",
      "3               5  27815  ILSVRC2012_val_00021042        1  n01990800   \n",
      "4               9  47859  ILSVRC2012_val_00012737        0  n03770439   \n",
      "...           ...    ...                      ...      ...        ...   \n",
      "12595       49928  46533  ILSVRC2012_val_00038680        2  n02097209   \n",
      "12596       49934  36159  ILSVRC2012_val_00043089        2  n02099712   \n",
      "12597       49938  47151  ILSVRC2012_val_00004847        0  n04355338   \n",
      "12598       49944  14416  ILSVRC2012_val_00011520        1  n02483708   \n",
      "12599       49947   1059  ILSVRC2012_val_00035855        1  n01950731   \n",
      "\n",
      "                Categories  \n",
      "0                cap cover  \n",
      "1                      bib  \n",
      "2      siamang syndactylus  \n",
      "3                   isopod  \n",
      "4           miniskirt mini  \n",
      "...                    ...  \n",
      "12595            schnauzer  \n",
      "12596            retriever  \n",
      "12597              sundial  \n",
      "12598  siamang syndactylus  \n",
      "12599      slug nudibranch  \n",
      "\n",
      "[12600 rows x 6 columns]\n"
     ]
    }
   ],
   "source": [
    "val_reduced = (\n",
    "    val2.loc[val2[\"FolderName\"].isin(foldernames)]\n",
    "    .reset_index()\n",
    "    .drop([\"level_0\"], axis=1)\n",
    ")\n",
    "print(val_reduced[:3])"
   ]
  },
  {
   "cell_type": "code",
   "execution_count": 28,
   "id": "21accfca",
   "metadata": {},
   "outputs": [
    {
     "name": "stdout",
     "output_type": "stream",
     "text": [
      "n03657121\n",
      "['/mnt/c/Users/pietr/Desktop/ImageNet/DATA/testing/val/ILSVRC2012_val_00044067.JPEG', '/mnt/c/Users/pietr/Desktop/ImageNet/DATA/testing/val/ILSVRC2012_val_00033383.JPEG', '/mnt/c/Users/pietr/Desktop/ImageNet/DATA/testing/val/ILSVRC2012_val_00031942.JPEG', '/mnt/c/Users/pietr/Desktop/ImageNet/DATA/testing/val/ILSVRC2012_val_00021042.JPEG', '/mnt/c/Users/pietr/Desktop/ImageNet/DATA/testing/val/ILSVRC2012_val_00012737.JPEG', '/mnt/c/Users/pietr/Desktop/ImageNet/DATA/testing/val/ILSVRC2012_val_00003267.JPEG', '/mnt/c/Users/pietr/Desktop/ImageNet/DATA/testing/val/ILSVRC2012_val_00014352.JPEG', '/mnt/c/Users/pietr/Desktop/ImageNet/DATA/testing/val/ILSVRC2012_val_00043387.JPEG', '/mnt/c/Users/pietr/Desktop/ImageNet/DATA/testing/val/ILSVRC2012_val_00044890.JPEG', '/mnt/c/Users/pietr/Desktop/ImageNet/DATA/testing/val/ILSVRC2012_val_00048337.JPEG']\n",
      "12600\n"
     ]
    }
   ],
   "source": [
    "# reducing ImageNet's val set to 252 classes (without folders)\n",
    "\n",
    "VAL_DATA_FOLDER = (\n",
    "    \"/mnt/c/Users/pietr/Desktop/ImageNet/DATA/val/\"  # validation set (for evaluation)\n",
    ")\n",
    "valPaths = []\n",
    "valLabels = []\n",
    "\n",
    "print(val_reduced[\"FolderName\"][0])\n",
    "\n",
    "for i, val in enumerate(val_reduced[\"ImageId\"]):\n",
    "    valPaths.append(VAL_DATA_FOLDER + val + \".JPEG\")\n",
    "\n",
    "print(valPaths[:10])\n",
    "print(len(valPaths))\n",
    "\n",
    "TARGET_FOLDER = \"/mnt/c/Users/pietr/Desktop/ImageNet/DATA/testing/val252/\"  # evaluation set new folder\n",
    "\n",
    "for valPath in valPaths:\n",
    "    try:\n",
    "        os.rename(valPath, TARGET_FOLDER + valPath.split(\"/\")[-1])\n",
    "\n",
    "    except FileNotFoundError:\n",
    "        pass"
   ]
  },
  {
   "cell_type": "code",
   "execution_count": 31,
   "id": "ab0cccde",
   "metadata": {},
   "outputs": [
    {
     "name": "stdout",
     "output_type": "stream",
     "text": [
      "   Unnamed: 0  index                  ImageId  Cluster FolderName  \\\n",
      "0           0  27430  ILSVRC2012_val_00044067        0  n03657121   \n",
      "1           1  18019  ILSVRC2012_val_00033383        0  n02834397   \n",
      "2           3  14407  ILSVRC2012_val_00031942        1  n02483708   \n",
      "\n",
      "            Categories  \n",
      "0            cap cover  \n",
      "1                  bib  \n",
      "2  siamang syndactylus  \n",
      "['/mnt/c/Users/pietr/Desktop/ImageNet/DATA/testing/val252/ILSVRC2012_val_00044067.JPEG', '/mnt/c/Users/pietr/Desktop/ImageNet/DATA/testing/val252/ILSVRC2012_val_00033383.JPEG', '/mnt/c/Users/pietr/Desktop/ImageNet/DATA/testing/val252/ILSVRC2012_val_00031942.JPEG', '/mnt/c/Users/pietr/Desktop/ImageNet/DATA/testing/val252/ILSVRC2012_val_00021042.JPEG', '/mnt/c/Users/pietr/Desktop/ImageNet/DATA/testing/val252/ILSVRC2012_val_00012737.JPEG', '/mnt/c/Users/pietr/Desktop/ImageNet/DATA/testing/val252/ILSVRC2012_val_00003267.JPEG', '/mnt/c/Users/pietr/Desktop/ImageNet/DATA/testing/val252/ILSVRC2012_val_00014352.JPEG', '/mnt/c/Users/pietr/Desktop/ImageNet/DATA/testing/val252/ILSVRC2012_val_00043387.JPEG', '/mnt/c/Users/pietr/Desktop/ImageNet/DATA/testing/val252/ILSVRC2012_val_00044890.JPEG', '/mnt/c/Users/pietr/Desktop/ImageNet/DATA/testing/val252/ILSVRC2012_val_00048337.JPEG']\n",
      "12600\n",
      "['n03657121', 'n02834397', 'n02483708', 'n01990800', 'n03770439', 'n02093754', 'n01664065', 'n01514668', 'n02102318', 'n02102480']\n",
      "12600\n"
     ]
    }
   ],
   "source": [
    "# reorganize the evaluation sets in folders\n",
    "\n",
    "\n",
    "VAL_DATA_FOLDER = \"/mnt/c/Users/pietr/Desktop/ImageNet/DATA/testing/val252/\"\n",
    "valPaths = []\n",
    "valLabels = []\n",
    "\n",
    "print(val_reduced[:3])\n",
    "\n",
    "for i, val in enumerate(val_reduced[\"ImageId\"]):\n",
    "    valPaths.append(VAL_DATA_FOLDER + val + \".JPEG\")\n",
    "    valLabels.append(val_reduced[\"FolderName\"][i])\n",
    "\n",
    "print(valPaths[:10])\n",
    "print(len(valPaths))\n",
    "print(valLabels[:10])\n",
    "print(len(valLabels))\n",
    "\n",
    "\n",
    "for valPath, valLabel in zip(valPaths, valLabels):\n",
    "    if not os.path.isdir(VAL_DATA_FOLDER + valLabel):\n",
    "        os.mkdir(VAL_DATA_FOLDER + valLabel)\n",
    "    try:\n",
    "\n",
    "        os.rename(valPath, VAL_DATA_FOLDER + valLabel + \"/\" + valPath.split(\"/\")[-1])\n",
    "    except FileNotFoundError:\n",
    "        pass"
   ]
  },
  {
   "cell_type": "code",
   "execution_count": null,
   "id": "5229a684",
   "metadata": {},
   "outputs": [],
   "source": []
  }
 ],
 "metadata": {
  "kernelspec": {
   "display_name": "Python 3 (ipykernel)",
   "language": "python",
   "name": "python3"
  },
  "language_info": {
   "codemirror_mode": {
    "name": "ipython",
    "version": 3
   },
   "file_extension": ".py",
   "mimetype": "text/x-python",
   "name": "python",
   "nbconvert_exporter": "python",
   "pygments_lexer": "ipython3",
   "version": "3.9.12"
  }
 },
 "nbformat": 4,
 "nbformat_minor": 5
}
