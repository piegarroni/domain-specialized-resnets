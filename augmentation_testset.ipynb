{
 "cells": [
  {
   "cell_type": "markdown",
   "id": "a20b7456",
   "metadata": {},
   "source": [
    "### This section contains the code used to create the different version of the test set with the different augmentations"
   ]
  },
  {
   "cell_type": "code",
   "execution_count": 1,
   "id": "3ba97216",
   "metadata": {},
   "outputs": [
    {
     "name": "stderr",
     "output_type": "stream",
     "text": [
      "2022-05-17 16:30:33.622815: I tensorflow/stream_executor/platform/default/dso_loader.cc:53] Successfully opened dynamic library libcudart.so.11.0\n"
     ]
    }
   ],
   "source": [
    "# code adapted from https://www.machinelearningmindset.com/data-augmentation-with-tensorflow/\n",
    "\n",
    "import matplotlib.image as mpimg\n",
    "import tensorflow as tf\n",
    "import urllib\n",
    "\n",
    "import matplotlib.pyplot as plt\n",
    "import numpy as np"
   ]
  },
  {
   "cell_type": "code",
   "execution_count": null,
   "id": "26af1440",
   "metadata": {},
   "outputs": [],
   "source": [
    "# visualize random image\n",
    "\n",
    "image_name = (\n",
    "    \"/mnt/c/Users/pietr/Desktop/ImageNet/DATA/testing/val252/ILSVRC2012_val_00000001.JPEG\"\n",
    ")\n",
    "\n",
    "image = mpimg.imread(image_name)\n",
    "imgplot = plt.imshow(image)\n",
    "\n",
    "print(image.shape)"
   ]
  },
  {
   "cell_type": "code",
   "execution_count": null,
   "id": "4e7a46eb",
   "metadata": {},
   "outputs": [],
   "source": [
    "# Side by side visualization\n",
    "\n",
    "\n",
    "def visualize(im, imAgmented, operation):\n",
    "    '''\n",
    "    Method to visualize original and edited images side to side\n",
    "    '''\n",
    "    fig = plt.figure(figsize=(16, 10))\n",
    "    plt.subplot(1, 2, 1)\n",
    "    plt.title(\"Original image\")\n",
    "    plt.imshow(im)\n",
    "    plt.subplot(1, 2, 2)\n",
    "    plt.title(operation)\n",
    "    plt.imshow(imAgmented)\n",
    "    return imAgmented"
   ]
  },
  {
   "cell_type": "code",
   "execution_count": null,
   "id": "784d4a3b",
   "metadata": {},
   "outputs": [],
   "source": [
    "# Adding Gaussian noise to image and visualize difference\n",
    "\n",
    "common_type = tf.float32  # Make noise and image of the same type\n",
    "gnoise = tf.random.normal(\n",
    "    shape=tf.shape(image), mean=0.0, stddev=0.1, dtype=common_type\n",
    ")\n",
    "\n",
    "image_type_converted = tf.image.convert_image_dtype(\n",
    "    image, dtype=common_type, saturate=False\n",
    ")\n",
    "\n",
    "noisy_image = tf.add(image_type_converted, gnoise)\n",
    "noisied = visualize(image_type_converted, noisy_image, \"noisy image\")"
   ]
  },
  {
   "cell_type": "code",
   "execution_count": null,
   "id": "a0943adf",
   "metadata": {},
   "outputs": [],
   "source": [
    "# visualize central cropped version\n",
    "\n",
    "central_fraction = 0.6  # The scale of the cropped area to the original image\n",
    "center_cropped = tf.image.central_crop(image, central_fraction=0.6)\n",
    "visualize(image, center_cropped, \"centrally cropped image\")"
   ]
  },
  {
   "cell_type": "code",
   "execution_count": null,
   "id": "744c7115",
   "metadata": {},
   "outputs": [],
   "source": [
    "# visualize brighter version\n",
    "\n",
    "bright = tf.image.adjust_brightness(image, 0.2)\n",
    "brightened = visualize(image, bright, \"brightened image\")"
   ]
  },
  {
   "cell_type": "code",
   "execution_count": null,
   "id": "0fa56896",
   "metadata": {},
   "outputs": [],
   "source": [
    "# visualize darker version\n",
    "\n",
    "dark = tf.image.adjust_brightness(image, -0.3)\n",
    "darkened = visualize(image, dark, \"brightened image\")"
   ]
  },
  {
   "cell_type": "raw",
   "id": "cc62db2f",
   "metadata": {},
   "source": [
    "# brighter folder\n",
    "\n",
    "\n",
    "import pandas as pd\n",
    "import os\n",
    "\n",
    "VAL_DATA_FOLDER = \"/mnt/c/Users/pietr/Desktop/ImageNet/DATA/testing/val252/\"\n",
    "TARGET_FOLDER = \"/mnt/c/Users/pietr/Desktop/ImageNet/DATA/testing/val_bright/\"\n",
    "valPaths = []\n",
    "valLabels = []\n",
    "print(len(os.listdir(VAL_DATA_FOLDER)))\n",
    "\n",
    "for i, image_name in enumerate(os.listdir(VAL_DATA_FOLDER)):\n",
    "\n",
    "    path_name = VAL_DATA_FOLDER + image_name\n",
    "    image = mpimg.imread(path_name)\n",
    "    bright = tf.image.adjust_brightness(image, 0.2)\n",
    "\n",
    "    try:\n",
    "        tf.keras.preprocessing.image.save_img(\n",
    "            TARGET_FOLDER + \"{}.JPEG\".format(image_name.split(\".\")[0]), bright\n",
    "        )\n",
    "    except ValueError:\n",
    "        pass"
   ]
  },
  {
   "cell_type": "code",
   "execution_count": null,
   "id": "f399a124",
   "metadata": {},
   "outputs": [],
   "source": [
    "# centreally-cropped folder\n",
    "\n",
    "plt.style.use(\"default\")\n",
    "import pandas as pd\n",
    "import os\n",
    "\n",
    "VAL_DATA_FOLDER = \"/mnt/c/Users/pietr/Desktop/ImageNet/DATA/testing/val252/\"\n",
    "TARGET_FOLDER = \"/mnt/c/Users/pietr/Desktop/ImageNet/DATA/testing/val_crop/\"\n",
    "valPaths = []\n",
    "valLabels = []\n",
    "print(len(os.listdir(VAL_DATA_FOLDER)))\n",
    "\n",
    "for i, image_name in enumerate(os.listdir(VAL_DATA_FOLDER)):\n",
    "\n",
    "    path_name = VAL_DATA_FOLDER + image_name\n",
    "    image = mpimg.imread(path_name)\n",
    "\n",
    "    try:\n",
    "        center_cropped = tf.image.central_crop(image, central_fraction=0.7)\n",
    "        tf.keras.preprocessing.image.save_img(\n",
    "            TARGET_FOLDER + \"{}.JPEG\".format(image_name.split(\".\")[0]), center_cropped\n",
    "        )\n",
    "    except ValueError:\n",
    "        pass"
   ]
  },
  {
   "cell_type": "raw",
   "id": "17158d2d",
   "metadata": {},
   "source": [
    "# darker folder\n",
    "\n",
    "\n",
    "import pandas as pd\n",
    "import os\n",
    "\n",
    "VAL_DATA_FOLDER = \"/mnt/c/Users/pietr/Desktop/ImageNet/DATA/testing/val252/\"\n",
    "TARGET_FOLDER = \"/mnt/c/Users/pietr/Desktop/ImageNet/DATA/testing/val_dark/\"\n",
    "valPaths = []\n",
    "valLabels = []\n",
    "print(len(os.listdir(VAL_DATA_FOLDER)))\n",
    "\n",
    "for i, image_name in enumerate(os.listdir(VAL_DATA_FOLDER)):\n",
    "\n",
    "    path_name = VAL_DATA_FOLDER + image_name\n",
    "    image = mpimg.imread(path_name)\n",
    "    bright = tf.image.adjust_brightness(image, -0.3)\n",
    "\n",
    "    try:\n",
    "        tf.keras.preprocessing.image.save_img(\n",
    "            TARGET_FOLDER + \"{}.JPEG\".format(image_name.split(\".\")[0]), bright\n",
    "        )\n",
    "    except ValueError:\n",
    "        pass"
   ]
  },
  {
   "cell_type": "raw",
   "id": "ade405ce",
   "metadata": {},
   "source": [
    "# noisy folder\n",
    "\n",
    "import pandas as pd\n",
    "import os\n",
    "\n",
    "VAL_DATA_FOLDER = \"/mnt/c/Users/pietr/Desktop/ImageNet/DATA/testing/val252/\"\n",
    "TARGET_FOLDER = \"/mnt/c/Users/pietr/Desktop/ImageNet/DATA/testing/val_noisy/\"\n",
    "valPaths = []\n",
    "valLabels = []\n",
    "print(len(os.listdir(VAL_DATA_FOLDER)))\n",
    "\n",
    "for i, image_name in enumerate(os.listdir(VAL_DATA_FOLDER)):\n",
    "    path_name = VAL_DATA_FOLDER + image_name\n",
    "    image = mpimg.imread(path_name)\n",
    "    common_type = tf.float32  # Make noise and image of the same type\n",
    "    gnoise = tf.random.normal(\n",
    "        shape=tf.shape(image), mean=0.0, stddev=0.1, dtype=common_type\n",
    "    )\n",
    "    image_type_converted = tf.image.convert_image_dtype(\n",
    "        image, dtype=common_type, saturate=False\n",
    "    )\n",
    "    noisy_image = tf.add(image_type_converted, gnoise)\n",
    "\n",
    "    try:\n",
    "        tf.keras.preprocessing.image.save_img(\n",
    "            TARGET_FOLDER + \"{}.JPEG\".format(image_name.split(\".\")[0]), noisy_image\n",
    "        )\n",
    "    except ValueError:\n",
    "        pass"
   ]
  },
  {
   "cell_type": "code",
   "execution_count": null,
   "id": "12d1dd7d",
   "metadata": {},
   "outputs": [],
   "source": []
  }
 ],
 "metadata": {
  "kernelspec": {
   "display_name": "Python 3 (ipykernel)",
   "language": "python",
   "name": "python3"
  },
  "language_info": {
   "codemirror_mode": {
    "name": "ipython",
    "version": 3
   },
   "file_extension": ".py",
   "mimetype": "text/x-python",
   "name": "python",
   "nbconvert_exporter": "python",
   "pygments_lexer": "ipython3",
   "version": "3.9.12"
  }
 },
 "nbformat": 4,
 "nbformat_minor": 5
}
